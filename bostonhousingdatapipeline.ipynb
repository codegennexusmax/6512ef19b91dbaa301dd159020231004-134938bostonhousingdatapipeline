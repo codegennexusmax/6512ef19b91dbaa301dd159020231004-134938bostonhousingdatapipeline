{
 "cells": [
  {
   "cell_type": "markdown",
   "id": "b86bbbb3",
   "metadata": {},
   "source": [
    "***GENERATED CODE FOR bostonhousingdatapipeline PIPELINE.***"
   ]
  },
  {
   "cell_type": "markdown",
   "id": "8ab8b8d5",
   "metadata": {},
   "source": [
    "***DON'T EDIT THIS CODE.***"
   ]
  },
  {
   "cell_type": "markdown",
   "id": "b8a34390",
   "metadata": {},
   "source": [
    "***CONNECTOR FUNCTIONS TO READ DATA.***"
   ]
  },
  {
   "cell_type": "code",
   "execution_count": null,
   "id": "f2053971",
   "metadata": {},
   "outputs": [],
   "source": [
    "import os\n",
    "import pandas as pd\n",
    "from hdfs3 import HDFileSystem\n",
    "import datetime\n",
    "import logging\n",
    "import warnings\n",
    "warnings.filterwarnings('ignore')\n",
    "logging.basicConfig(format='%(levelname)s:%(message)s', level=logging.INFO)\n",
    "\n",
    "\n",
    "class HDFSConnector:\n",
    "\n",
    "    def fetch(spark, config):\n",
    "        ################### INPUT HADOOP HOST PORT TO CONNECT WITH ###############################\n",
    "        hdfs_server = str(os.environ['HDFS_SERVER'])\n",
    "        hdfs_port = int(os.environ['HDFS_PORT'])\n",
    "        hdfs = HDFileSystem(host=hdfs_server, port=hdfs_port)\n",
    "        #hdfs = HDFileSystem(host=eval(config)['host'], port=eval(config)['port'])\n",
    "        with hdfs.open(eval(config)['url']) as f:\n",
    "            dfPd = pd.read_csv(f, error_bad_lines=False)\n",
    "        df = spark.createDataFrame(dfPd)\n",
    "        display(df.limit(2).toPandas())\n",
    "        return df\n",
    "\n",
    "    def put(df, spark, config):\n",
    "        return df.write.format('csv').options(header='true' if eval(config)[\"is_header\"] == \"Use Header Line\" else 'false',\n",
    "                                              delimiter=eval(config)[\"delimiter\"]).save((\"%s %s\") % (datetime.datetime.now().strftime(\"%Y-%m-%d %H.%M.%S\")+\"_\", eval(config)['url']))\n"
   ]
  },
  {
   "cell_type": "markdown",
   "id": "ef3522cd",
   "metadata": {},
   "source": [
    "***OPERATION FUNCTIONS***"
   ]
  },
  {
   "cell_type": "code",
   "execution_count": null,
   "id": "e7109f48",
   "metadata": {},
   "outputs": [],
   "source": [
    "import pyspark\n",
    "from dask.dataframe import from_pandas\n",
    "import json\n",
    "\n",
    "\n",
    "def replaceValues(df, functionsData, applyOn):\n",
    "    for columnData in applyOn:\n",
    "        for functionData in functionsData:\n",
    "            if functionData['replaceType'] == 'value':\n",
    "                if functionData['replaceValueType'] == 'min':\n",
    "                    minValue = df[columnData['columnName']].min().compute()\n",
    "                    df[columnData['columnName']] = df[columnData['columnName']].replace(\n",
    "                        toReplace, minValue)\n",
    "                elif functionData['replaceValueType'] == 'max':\n",
    "                    maxValue = df[columnData['columnName']].max().compute()\n",
    "                    df[columnData['columnName']] = df[columnData['columnName']].replace(\n",
    "                        toReplace, maxValue)\n",
    "                else:\n",
    "                    df[columnData['columnName']] = df[columnData['columnName']].replace(\n",
    "                        toReplace, functionData['ReplaceWith'])\n",
    "            elif functionData['replaceType'] == 'none':\n",
    "                if functionData['replaceValueType'] == 'min':\n",
    "                    minValue = df[columnData['columnName']].min().compute()\n",
    "                    df[columnData['columnName']\n",
    "                       ] = df[columnData['columnName']].replace(\"\", minValue)\n",
    "                    df[columnData['columnName']\n",
    "                       ] = df[columnData['columnName']].fillna(minValue)\n",
    "                elif functionData['replaceValueType'] == 'max':\n",
    "                    maxValue = df[columnData['columnName']].max().compute()\n",
    "                    df[columnData['columnName']\n",
    "                       ] = df[columnData['columnName']].replace(\"\", maxValue)\n",
    "                    df[columnData['columnName']\n",
    "                       ] = df[columnData['columnName']].fillna(maxValue)\n",
    "                else:\n",
    "                    df[columnData['columnName']] = df[columnData['columnName']].replace(\n",
    "                        \"\", functionData['ReplaceWith'])\n",
    "                    df[columnData['columnName']] = df[columnData['columnName']].fillna(\n",
    "                        functionData['ReplaceWith'])\n",
    "    return df\n",
    "\n",
    "\n",
    "def runDataCleansing(sparkDf, spark, config):\n",
    "    configObj = json.loads(config)\n",
    "    sparkDf.persist(pyspark.StorageLevel.MEMORY_AND_DISK)\n",
    "    df = from_pandas((sparkDf.toPandas()), npartitions=5)\n",
    "    functionList = configObj['functionsApplied']\n",
    "    Data_Cleansing_Methods = {\"replaceBy\": replaceValues,\n",
    "                              \"formula\": calculateFormula,\n",
    "                              \"aggregate\": aggregation,\n",
    "                              \"converttostringtype\": changeToString,\n",
    "                              \"editname\": renameColumns}\n",
    "    for function in functionList:\n",
    "        function['functionName']\n",
    "        df = Data_Cleansing_Methods[function['functionName']](df, function['functionsData'],\n",
    "                                                              function['applyOn'])\n",
    "    sparkDf = spark.createDataFrame(df.compute())\n",
    "\n",
    "    display(sparkDf.limit(2).toPandas())\n",
    "    return sparkDf\n"
   ]
  },
  {
   "cell_type": "markdown",
   "id": "8357a907",
   "metadata": {},
   "source": [
    "***CONNECTOR FUNCTIONS TO WRITE DATA.***"
   ]
  },
  {
   "cell_type": "code",
   "execution_count": null,
   "id": "b972e35a",
   "metadata": {},
   "outputs": [],
   "source": [
    "import datetime\n",
    "import requests\n",
    "import datetime\n",
    "import logging\n",
    "import warnings\n",
    "warnings.filterwarnings('ignore')\n",
    "logging.basicConfig(format='%(levelname)s:%(message)s', level=logging.INFO)\n",
    "\n",
    "\n",
    "class NumtraConnector:\n",
    "\n",
    "    def put(inStages, inStagesData, stageId, spark, config):\n",
    "        path = eval(config)['server_url']\n",
    "        baseType = eval(config)['baseType']\n",
    "        results_url = eval(config)['results_url']\n",
    "        server = eval(config)['server']\n",
    "        originalfile = eval(config)['orignalKey']\n",
    "        eval(config)['pathOnly']\n",
    "        filename = eval(config)['filename']\n",
    "        eval(config)['ser']\n",
    "        eval(config)['user']\n",
    "        eval(config)['password']\n",
    "        eval(config)['authSource']\n",
    "        eval(config)['user_id']\n",
    "        eval(config)['parent_id']\n",
    "        eval(config)['project_id']\n",
    "        time = str(int(datetime.datetime.now().timestamp()))\n",
    "\n",
    "        inStagesData[inStages[0]]\n",
    "\n",
    "        print(path)\n",
    "        print(baseType)\n",
    "        print(results_url)\n",
    "        print(server)\n",
    "        print(originalfile)\n",
    "        print(filename)\n",
    "\n",
    "        args = {\n",
    "            'url': path,\n",
    "            'baseType': baseType,\n",
    "            'originalfile': originalfile,\n",
    "            'filename': time + filename\n",
    "        }\n",
    "\n",
    "        response = requests.post(results_url, args)\n",
    "        return response\n"
   ]
  },
  {
   "cell_type": "markdown",
   "id": "b7f9da99",
   "metadata": {},
   "source": [
    "***READING DATAFRAME***"
   ]
  },
  {
   "cell_type": "code",
   "execution_count": null,
   "id": "ac4e9090",
   "metadata": {},
   "outputs": [],
   "source": [
    "############## CREATE SPARK SESSION ############################ ENTER YOUR SPARK MASTER IP AND PORT TO CONNECT TO SERVER ################\n",
    "from pyspark.sql import SparkSession\n",
    "spark = SparkSession.builder.master('local[1]').getOrCreate()\n",
    "#%run bostonhousingdatapipelineHooks.ipynb\n",
    "try:\n",
    "\t#sourcePreExecutionHook()\n",
    "\n",
    "\tbotonhouingtrain = HDFSConnector.fetch(spark, \"{'url': '/FileStore/platform/testdata/1696427074578_Boston_Housing_Train.csv', 'filename': 'Boston_Housing_Train.csv', 'delimiter': ',', 'file_type': 'Delimeted', 'dbfs_token': '', 'dbfs_domain': '', 'FilePath': '/Real Estate/Boston Housing/Boston_Housing_Train.csv', 'viewFileName': 'Boston_Housing_Train.csv', 'is_header': 'Use Header Line', 'baseType': 'hdfs', 'server_url': '/numtraPlatform/NumtraPlatformV3/uploads/platform/', 'results_url': 'http://ml.numtra.com:44040/api/read/hdfs'}\")\n",
    "\n",
    "except Exception as ex: \n",
    "\tlogging.error(ex)\n",
    "#spark.stop()\n"
   ]
  },
  {
   "cell_type": "markdown",
   "id": "3281cc48",
   "metadata": {},
   "source": [
    "***PERFORMING OPERATIONS***"
   ]
  },
  {
   "cell_type": "code",
   "execution_count": null,
   "id": "32b64f29",
   "metadata": {},
   "outputs": [],
   "source": [
    "#%run bostonhousingdatapipelineHooks.ipynb\n",
    "try:\n",
    "\t#operationPreExecutionHook()\n",
    "\n",
    "datapreparation = runDataCleansing(botonhouingtrain,spark,json.dumps( {\"url\": \"/FileStore/platform/testdata/1696427074578_Boston_Housing_Train.csv\", \"source_attributes\": {}, \"DataPrepFile\": \"/FileStore/platform/testdata/1696427074578_Boston_Housing_Train.csv\", \"data_source\": \"platfiles\", \"startListenerOnly\": 1, \"dateColumnNames\": [], \"FilePath\": \"/FileStore/platform/extra/6512ef60b91dbaa301dd15bf1696427265/0part.csv\", \"requestRatio\": 1.0, \"totalRows\": 508, \"BasicStats\": {\"missingValues\": 0.0, \"numberOfColumns\": 14, \"numberOfRows\": 497, \"duplicateRowCount\": 2, \"stats\": [{\"column\": \"CRIM\", \"alias\": \"CRIM\", \"generated\": 0, \"type\": \"real\", \"max\": 88.9762, \"min\": 0.00632, \"mean\": 3.6069239637826955, \"missing\": 0.0, \"stddev\": 8.61, \"outliers\": [8.98296, 13.5222, 9.2323, 8.26725, 11.1081, 18.4982, 19.6091, 15.288, 9.82349, 23.6482, 17.8667, 88.9762, 15.8744, 9.18702, 20.0849, 16.8118, 24.3938, 22.5971, 14.3337, 11.5779, 8.64476, 13.3598, 8.71675, 38.3518, 9.91655, 25.0461, 14.2362, 9.59571, 24.8017, 41.5292, 67.9208, 20.7162, 11.9511, 14.4383, 51.1358, 14.0507, 18.811, 28.6558, 45.7461, 18.0846, 10.8342, 73.5341, 11.8123, 11.0874, 12.0482, 8.79212, 15.8603, 12.2472, 37.6619, 9.33889, 8.49213, 10.0623, 13.9134, 11.1604, 14.4208, 15.1772, 13.6781, 9.39063, 22.0511, 9.72418, 9.96654, 12.8023, 10.6718, 9.92485, 9.32909, 8.24809, 9.51363, 8.20058, 15.5757, 13.0751, 15.0234, 10.233, 14.3337], \"validation\": []}, {\"column\": \"ZN\", \"alias\": \"ZN\", \"generated\": 0, \"type\": \"real\", \"max\": 100.0, \"min\": 0.0, \"mean\": 11.375251509054326, \"missing\": 0.0, \"stddev\": 23.27, \"outliers\": [75.0, 75.0, 75.0, 90.0, 85.0, 100.0, 80.0, 80.0, 45.0, 45.0, 45.0, 45.0, 45.0, 45.0, 60.0, 60.0, 80.0, 80.0, 80.0, 80.0, 95.0, 95.0, 82.5, 95.0, 95.0, 30.0, 30.0, 30.0, 30.0, 30.0, 30.0, 80.0, 80.0, 90.0, 40.0, 40.0, 40.0, 40.0, 40.0, 90.0, 90.0, 55.0, 80.0, 52.5, 52.5, 52.5, 80.0, 80.0, 80.0, 70.0, 70.0, 70.0, 34.0, 34.0, 34.0, 33.0, 33.0, 33.0, 33.0, 35.0, 35.0, 35.0, 55.0, 55.0, 85.0, 80.0, 40.0, 40.0, 60.0, 60.0, 90.0, 80.0, 80.0], \"validation\": []}, {\"column\": \"INDUS\", \"alias\": \"INDUS\", \"generated\": 0, \"type\": \"real\", \"max\": 27.74, \"min\": 0.46, \"mean\": 11.13364185110664, \"missing\": 0.0, \"stddev\": 6.89, \"outliers\": [], \"validation\": []}, {\"column\": \"CHAS\", \"alias\": \"CHAS\", \"generated\": 0, \"type\": \"real\", \"max\": 1.0, \"min\": 0.0, \"mean\": 0.07042253521126761, \"missing\": 0.0, \"stddev\": 0.26, \"outliers\": [1.0, 1.0, 1.0, 1.0, 1.0, 1.0, 1.0, 1.0, 1.0, 1.0, 1.0, 1.0, 1.0, 1.0, 1.0, 1.0, 1.0, 1.0, 1.0, 1.0, 1.0, 1.0, 1.0, 1.0, 1.0, 1.0, 1.0, 1.0, 1.0, 1.0, 1.0, 1.0, 1.0, 1.0, 1.0], \"validation\": []}, {\"column\": \"NOX\", \"alias\": \"NOX\", \"generated\": 0, \"type\": \"real\", \"max\": 0.871, \"min\": 0.385, \"mean\": 0.5549148893360161, \"missing\": 0.0, \"stddev\": 0.12, \"outliers\": [0.871, 0.871, 0.871, 0.871, 0.871, 0.871, 0.871, 0.871, 0.871, 0.871, 0.871, 0.871, 0.871, 0.871, 0.871, 0.871], \"validation\": []}, {\"column\": \"RM\", \"alias\": \"RM\", \"generated\": 0, \"type\": \"real\", \"max\": 8.78, \"min\": 3.863, \"mean\": 6.294577464788732, \"missing\": 0.0, \"stddev\": 0.69, \"outliers\": [8.069, 7.82, 4.903, 4.926, 7.802, 8.375, 7.929, 7.765, 7.831, 7.875, 7.61, 7.853, 8.034, 8.266, 8.725, 8.04, 7.686, 8.337, 8.247, 8.259, 8.704, 8.398, 8.297, 7.691, 7.82, 7.645, 7.923, 8.78, 4.963, 3.863, 4.906, 4.138, 4.368, 4.652, 4.88, 4.138, 4.628, 4.519], \"validation\": []}, {\"column\": \"AGE\", \"alias\": \"AGE\", \"generated\": 0, \"type\": \"real\", \"max\": 100.0, \"min\": 2.9, \"mean\": 68.21207243460763, \"missing\": 0.0, \"stddev\": 28.19, \"outliers\": [], \"validation\": []}, {\"column\": \"DIS\", \"alias\": \"DIS\", \"generated\": 0, \"type\": \"real\", \"max\": 12.1265, \"min\": 1.1296, \"mean\": 3.789781287726358, \"missing\": 0.0, \"stddev\": 2.1, \"outliers\": [9.1876, 9.2229, 8.9067, 8.9067, 9.2203, 9.2203, 9.0892, 10.7103, 10.7103, 12.1265, 10.5857, 10.5857], \"validation\": []}, {\"column\": \"RAD\", \"alias\": \"RAD\", \"generated\": 0, \"type\": \"real\", \"max\": 24.0, \"min\": 1.0, \"mean\": 9.549295774647888, \"missing\": 0.0, \"stddev\": 8.72, \"outliers\": [], \"validation\": []}, {\"column\": \"TAX\", \"alias\": \"TAX\", \"generated\": 0, \"type\": \"real\", \"max\": 711.0, \"min\": 187.0, \"mean\": 408.24346076458755, \"missing\": 0.0, \"stddev\": 168.96, \"outliers\": [], \"validation\": []}, {\"column\": \"PTRATIO\", \"alias\": \"PTRATIO\", \"generated\": 0, \"type\": \"real\", \"max\": 22.0, \"min\": 12.6, \"mean\": 18.447283702213277, \"missing\": 0.0, \"stddev\": 2.16, \"outliers\": [12.6, 12.6, 12.6, 13.0, 13.0, 13.0, 13.0, 13.0, 13.0, 13.0, 13.0, 13.0, 13.0, 13.0, 13.0, 13.6], \"validation\": []}, {\"column\": \"B\", \"alias\": \"B\", \"generated\": 0, \"type\": \"real\", \"max\": 396.9, \"min\": 0.32, \"mean\": 356.80412474849095, \"missing\": 0.0, \"stddev\": 91.48, \"outliers\": [288.99, 303.42, 306.38, 232.6, 248.31, 70.8, 344.91, 338.63, 262.76, 172.91, 169.27, 341.6, 343.28, 261.95, 321.02, 88.01, 88.63, 338.92, 240.16, 227.61, 297.09, 330.04, 292.29, 348.93, 341.6, 316.03, 131.42, 347.88, 285.83, 338.16, 329.46, 332.09, 314.64, 179.36, 2.6, 35.05, 28.79, 210.97, 88.27, 27.25, 21.57, 16.45, 48.45, 318.75, 319.98, 291.55, 2.52, 3.65, 7.68, 24.65, 18.82, 96.73, 60.72, 83.45, 81.33, 97.95, 100.19, 100.63, 109.85, 27.49, 9.32, 68.95, 240.52, 43.06, 318.01, 304.21, 0.32, 6.68, 50.92, 10.48, 3.5, 272.21, 255.23, 334.4, 22.01, 331.29, 302.76, 349.48, 344.05, 318.43], \"validation\": []}, {\"column\": \"LSTAT\", \"alias\": \"LSTAT\", \"generated\": 0, \"type\": \"real\", \"max\": 37.97, \"min\": 1.73, \"mean\": 12.586257545271629, \"missing\": 0.0, \"stddev\": 7.16, \"outliers\": [29.93, 30.81, 34.41, 29.53, 29.55, 34.77, 37.97, 30.63, 30.81, 31.99, 30.62, 30.59, 29.97, 34.37, 36.98, 34.02, 29.68], \"validation\": []}, {\"column\": \"MEDV\", \"alias\": \"MEDV\", \"generated\": 0, \"type\": \"real\", \"max\": 50.0, \"min\": 5.0, \"mean\": 22.59818913480885, \"missing\": 0.0, \"stddev\": 9.23, \"outliers\": [36.2, 34.9, 35.4, 38.7, 43.8, 41.3, 50.0, 50.0, 50.0, 50.0, 37.2, 39.8, 36.2, 37.9, 50.0, 34.9, 37.0, 36.4, 50.0, 34.9, 42.3, 48.5, 50.0, 44.8, 50.0, 37.6, 46.7, 41.7, 48.3, 42.8, 44.0, 50.0, 36.0, 43.1, 48.8, 36.5, 50.0, 43.5, 35.2, 35.1, 45.4, 35.4, 46.0, 50.0, 37.3, 36.1, 50.0, 50.0, 50.0, 50.0, 50.0, 7.2, 5.0, 6.3, 5.6, 7.2, 5.0, 7.0, 7.2, 7.0], \"validation\": []}]}, \"predictionPowerScore\": [{\"AGE\": 1.0, \"B\": 0.0, \"CHAS\": 0.0, \"CRIM\": 0.1271247861, \"DIS\": 0.4194076849, \"INDUS\": 0.4754647882, \"LSTAT\": 0.0707391208, \"MEDV\": 0.1045634074, \"NOX\": 0.508368153, \"PTRATIO\": 0.3644323717, \"RAD\": 0.1541038687, \"RM\": 0.0, \"TAX\": 0.4408631269, \"ZN\": 0.2337611432}, {\"AGE\": 0.0, \"B\": 1.0, \"CHAS\": 0.0, \"CRIM\": 0.0, \"DIS\": 0.0, \"INDUS\": 0.0, \"LSTAT\": 0.0, \"MEDV\": 0.0, \"NOX\": 0.116210987, \"PTRATIO\": 0.0, \"RAD\": 0.0, \"RM\": 0.0, \"TAX\": 0.0, \"ZN\": 0.0}, {\"AGE\": 0.0, \"B\": 0.0, \"CHAS\": 1.0, \"CRIM\": 0.0, \"DIS\": 0.0, \"INDUS\": 0.0, \"LSTAT\": 0.0, \"MEDV\": 0.0, \"NOX\": 0.0, \"PTRATIO\": 0.0, \"RAD\": 0.0, \"RM\": 0.0, \"TAX\": 0.0, \"ZN\": 0.0}, {\"AGE\": 0.0, \"B\": 0.0, \"CHAS\": 0.0, \"CRIM\": 1.0, \"DIS\": 0.0, \"INDUS\": 0.3948342901, \"LSTAT\": 0.0, \"MEDV\": 0.0, \"NOX\": 0.4345076785, \"PTRATIO\": 0.3510081715, \"RAD\": 0.347840686, \"RM\": 0.0, \"TAX\": 0.3902829554, \"ZN\": 0.0}, {\"AGE\": 0.2725834993, \"B\": 0.0, \"CHAS\": 0.0, \"CRIM\": 0.0894672579, \"DIS\": 1.0, \"INDUS\": 0.7287888957, \"LSTAT\": 0.0, \"MEDV\": 0.0, \"NOX\": 0.7609739912, \"PTRATIO\": 0.4951572042, \"RAD\": 0.2074361199, \"RM\": 0.0, \"TAX\": 0.6653694232, \"ZN\": 0.3460086915}, {\"AGE\": 0.2241661612, \"B\": 0.0429205102, \"CHAS\": 0.0, \"CRIM\": 0.4296577713, \"DIS\": 0.446040553, \"INDUS\": 1.0, \"LSTAT\": 0.1318869272, \"MEDV\": 0.228722396, \"NOX\": 0.9025321489, \"PTRATIO\": 0.6921007101, \"RAD\": 0.4429305636, \"RM\": 0.0, \"TAX\": 0.8689659677, \"ZN\": 0.2703709259}, {\"AGE\": 0.0324443673, \"B\": 0.0, \"CHAS\": 0.0, \"CRIM\": 0.0, \"DIS\": 0.0902043133, \"INDUS\": 0.3082756494, \"LSTAT\": 1.0, \"MEDV\": 0.296369681, \"NOX\": 0.3372138992, \"PTRATIO\": 0.2100668299, \"RAD\": 0.1834902094, \"RM\": 0.0122830573, \"TAX\": 0.2730043018, \"ZN\": 0.1403903904}, {\"AGE\": 0.0, \"B\": 0.0, \"CHAS\": 0.0, \"CRIM\": 0.0, \"DIS\": 0.0, \"INDUS\": 0.297499768, \"LSTAT\": 0.2155341916, \"MEDV\": 1.0, \"NOX\": 0.3479456027, \"PTRATIO\": 0.1916883443, \"RAD\": 0.0954755349, \"RM\": 0.1081392897, \"TAX\": 0.2162300614, \"ZN\": 0.1250317774}, {\"AGE\": 0.2362171409, \"B\": 0.0, \"CHAS\": 0.0, \"CRIM\": 0.3174197169, \"DIS\": 0.4507644545, \"INDUS\": 0.743741871, \"LSTAT\": 0.0, \"MEDV\": 0.0718753417, \"NOX\": 1.0, \"PTRATIO\": 0.5261470535, \"RAD\": 0.3145321429, \"RM\": 0.0, \"TAX\": 0.671592538, \"ZN\": 0.2359814104}, {\"AGE\": 0.0, \"B\": 0.0, \"CHAS\": 0.0, \"CRIM\": 0.076794201, \"DIS\": 0.1562541378, \"INDUS\": 0.9278397459, \"LSTAT\": 0.0, \"MEDV\": 0.0245073569, \"NOX\": 0.8489841158, \"PTRATIO\": 1.0, \"RAD\": 0.3348293711, \"RM\": 0.0, \"TAX\": 0.7489697758, \"ZN\": 0.2007659194}, {\"AGE\": 0.0, \"B\": 0.0, \"CHAS\": 0.0, \"CRIM\": 0.7417957621, \"DIS\": 0.0548828297, \"INDUS\": 0.9758342504, \"LSTAT\": 0.0, \"MEDV\": 0.0017115836, \"NOX\": 0.9667348485, \"PTRATIO\": 0.8138488705, \"RAD\": 1.0, \"RM\": 0.0, \"TAX\": 0.9212857764, \"ZN\": 0.0}, {\"AGE\": 0.0, \"B\": 0.0, \"CHAS\": 0.0, \"CRIM\": 0.0, \"DIS\": 0.0, \"INDUS\": 0.1721712192, \"LSTAT\": 0.0, \"MEDV\": 0.1464880918, \"NOX\": 0.172824894, \"PTRATIO\": 0.0993525295, \"RAD\": 0.0132218751, \"RM\": 1.0, \"TAX\": 0.0855923733, \"ZN\": 0.1043892865}, {\"AGE\": 0.0323663115, \"B\": 0.0, \"CHAS\": 0.0, \"CRIM\": 0.5545399859, \"DIS\": 0.2166514813, \"INDUS\": 0.9670736429, \"LSTAT\": 0.004426384, \"MEDV\": 0.1412233357, \"NOX\": 0.9476136683, \"PTRATIO\": 0.7386439127, \"RAD\": 0.6969534511, \"RM\": 0.0, \"TAX\": 1.0, \"ZN\": 0.0806088617}, {\"AGE\": 0.0, \"B\": 0.0, \"CHAS\": 0.0, \"CRIM\": 0.0, \"DIS\": 0.4740194284, \"INDUS\": 0.8074739485, \"LSTAT\": 0.0, \"MEDV\": 0.0, \"NOX\": 0.7195991258, \"PTRATIO\": 0.3356833706, \"RAD\": 0.0, \"RM\": 0.0, \"TAX\": 0.536645789, \"ZN\": 1.0}], \"HasBasicStats\": 1, \"functionsApplied\": [{\"functionName\": \"replaceBy\", \"applyOn\": [{\"columnName\": \"CRIM\", \"type\": \"real\", \"min\": \"0.0\", \"max\": \"89.0\", \"mean\": \"3.6\"}, {\"columnName\": \"ZN\", \"type\": \"real\", \"min\": \"0.0\", \"max\": \"100.0\", \"mean\": \"11.4\"}, {\"columnName\": \"INDUS\", \"type\": \"real\", \"min\": \"0.5\", \"max\": \"27.7\", \"mean\": \"11.1\"}, {\"columnName\": \"CHAS\", \"type\": \"real\", \"min\": \"0.0\", \"max\": \"1.0\", \"mean\": \"0.1\"}, {\"columnName\": \"NOX\", \"type\": \"real\", \"min\": \"0.4\", \"max\": \"0.9\", \"mean\": \"0.6\"}, {\"columnName\": \"RM\", \"type\": \"real\", \"min\": \"3.6\", \"max\": \"8.8\", \"mean\": \"6.3\"}, {\"columnName\": \"AGE\", \"type\": \"real\", \"min\": \"2.9\", \"max\": \"100.0\", \"mean\": \"68.6\"}, {\"columnName\": \"DIS\", \"type\": \"real\", \"min\": \"1.1\", \"max\": \"12.1\", \"mean\": \"3.8\"}, {\"columnName\": \"RAD\", \"type\": \"real\", \"min\": \"1.0\", \"max\": \"24.0\", \"mean\": \"9.5\"}, {\"columnName\": \"TAX\", \"type\": \"real\", \"min\": \"187.0\", \"max\": \"711.0\", \"mean\": \"408.2\"}, {\"columnName\": \"PTRATIO\", \"type\": \"real\", \"min\": \"12.6\", \"max\": \"22.0\", \"mean\": \"18.4\"}, {\"columnName\": \"B\", \"type\": \"real\", \"min\": \"0.3\", \"max\": \"396.9\", \"mean\": \"356.8\"}, {\"columnName\": \"LSTAT\", \"type\": \"real\", \"min\": \"1.7\", \"max\": \"38.0\", \"mean\": \"12.6\"}, {\"columnName\": \"MEDV\", \"type\": \"real\", \"min\": \"5.0\", \"max\": \"50.0\", \"mean\": \"22.5\"}], \"functionsData\": [{\"replaceType\": \"dropna\", \"asNewColumn\": 0, \"newColumnName\": \"\"}]}], \"functionChanges\": [{\"columnName\": \"CRIM\", \"functionName\": \"Replace Outliers\", \"Type\": \"real\", \"Parameters\": [{\"replaceType\": \"dropna\", \"asNewColumn\": 0, \"newColumnName\": \"\"}]}, {\"columnName\": \"ZN\", \"functionName\": \"Replace Outliers\", \"Type\": \"real\", \"Parameters\": [{\"replaceType\": \"dropna\", \"asNewColumn\": 0, \"newColumnName\": \"\"}]}, {\"columnName\": \"INDUS\", \"functionName\": \"Replace Outliers\", \"Type\": \"real\", \"Parameters\": [{\"replaceType\": \"dropna\", \"asNewColumn\": 0, \"newColumnName\": \"\"}]}, {\"columnName\": \"CHAS\", \"functionName\": \"Replace Outliers\", \"Type\": \"real\", \"Parameters\": [{\"replaceType\": \"dropna\", \"asNewColumn\": 0, \"newColumnName\": \"\"}]}, {\"columnName\": \"NOX\", \"functionName\": \"Replace Outliers\", \"Type\": \"real\", \"Parameters\": [{\"replaceType\": \"dropna\", \"asNewColumn\": 0, \"newColumnName\": \"\"}]}, {\"columnName\": \"RM\", \"functionName\": \"Replace Outliers\", \"Type\": \"real\", \"Parameters\": [{\"replaceType\": \"dropna\", \"asNewColumn\": 0, \"newColumnName\": \"\"}]}, {\"columnName\": \"AGE\", \"functionName\": \"Replace Outliers\", \"Type\": \"real\", \"Parameters\": [{\"replaceType\": \"dropna\", \"asNewColumn\": 0, \"newColumnName\": \"\"}]}, {\"columnName\": \"DIS\", \"functionName\": \"Replace Outliers\", \"Type\": \"real\", \"Parameters\": [{\"replaceType\": \"dropna\", \"asNewColumn\": 0, \"newColumnName\": \"\"}]}, {\"columnName\": \"RAD\", \"functionName\": \"Replace Outliers\", \"Type\": \"real\", \"Parameters\": [{\"replaceType\": \"dropna\", \"asNewColumn\": 0, \"newColumnName\": \"\"}]}, {\"columnName\": \"TAX\", \"functionName\": \"Replace Outliers\", \"Type\": \"real\", \"Parameters\": [{\"replaceType\": \"dropna\", \"asNewColumn\": 0, \"newColumnName\": \"\"}]}, {\"columnName\": \"PTRATIO\", \"functionName\": \"Replace Outliers\", \"Type\": \"real\", \"Parameters\": [{\"replaceType\": \"dropna\", \"asNewColumn\": 0, \"newColumnName\": \"\"}]}, {\"columnName\": \"B\", \"functionName\": \"Replace Outliers\", \"Type\": \"real\", \"Parameters\": [{\"replaceType\": \"dropna\", \"asNewColumn\": 0, \"newColumnName\": \"\"}]}, {\"columnName\": \"LSTAT\", \"functionName\": \"Replace Outliers\", \"Type\": \"real\", \"Parameters\": [{\"replaceType\": \"dropna\", \"asNewColumn\": 0, \"newColumnName\": \"\"}]}, {\"columnName\": \"MEDV\", \"functionName\": \"Replace Outliers\", \"Type\": \"real\", \"Parameters\": [{\"replaceType\": \"dropna\", \"asNewColumn\": 0, \"newColumnName\": \"\"}]}], \"fileheader\": [{\"field\": \"CRIM\", \"alias\": \"CRIM\", \"generated\": 0, \"position\": 1, \"type\": \"real\"}, {\"field\": \"ZN\", \"alias\": \"ZN\", \"generated\": 0, \"position\": 2, \"type\": \"real\"}, {\"field\": \"INDUS\", \"alias\": \"INDUS\", \"generated\": 0, \"position\": 3, \"type\": \"real\"}, {\"field\": \"CHAS\", \"alias\": \"CHAS\", \"generated\": 0, \"position\": 4, \"type\": \"real\"}, {\"field\": \"NOX\", \"alias\": \"NOX\", \"generated\": 0, \"position\": 5, \"type\": \"real\"}, {\"field\": \"RM\", \"alias\": \"RM\", \"generated\": 0, \"position\": 6, \"type\": \"real\"}, {\"field\": \"AGE\", \"alias\": \"AGE\", \"generated\": 0, \"position\": 7, \"type\": \"real\"}, {\"field\": \"DIS\", \"alias\": \"DIS\", \"generated\": 0, \"position\": 8, \"type\": \"real\"}, {\"field\": \"RAD\", \"alias\": \"RAD\", \"generated\": 0, \"position\": 9, \"type\": \"real\"}, {\"field\": \"TAX\", \"alias\": \"TAX\", \"generated\": 0, \"position\": 10, \"type\": \"real\"}, {\"field\": \"PTRATIO\", \"alias\": \"PTRATIO\", \"generated\": 0, \"position\": 11, \"type\": \"real\"}, {\"field\": \"B\", \"alias\": \"B\", \"generated\": 0, \"position\": 12, \"type\": \"real\"}, {\"field\": \"LSTAT\", \"alias\": \"LSTAT\", \"generated\": 0, \"position\": 13, \"type\": \"real\"}, {\"field\": \"MEDV\", \"alias\": \"MEDV\", \"generated\": 0, \"position\": 14, \"type\": \"real\"}]}))\n",
    "\t#operationPostExecutionHook(datapreparation)\n",
    "\n",
    "except Exception as ex: \n",
    "\tlogging.error(ex)\n"
   ]
  },
  {
   "cell_type": "markdown",
   "id": "5e06064f",
   "metadata": {},
   "source": [
    "***WRITING DATAFRAME***"
   ]
  },
  {
   "cell_type": "code",
   "execution_count": null,
   "id": "c56cf234",
   "metadata": {},
   "outputs": [],
   "source": [
    "#%run bostonhousingdatapipelineHooks.ipynb\n",
    "try:\n",
    "\t#sinkPreExecutionHook()\n",
    "\n",
    "\tbostonhousing = NumtraConnector.fetch(spark, \"{'samplefile': '/FileStore/platform/sampleData/6512ef5bb91dbaa301dd15bb/part-00000-03102f23-a7a4-405c-98b4-252b69d2970b-c000.csv', 'samplecount': 508, 'originalcount': 508, 'orignalKey': '/FileStore/platform/testdata/1696427074578_Boston_Housing_Train.csv', 'pathOnly': '/Real Estate/Boston Housing', 'project_id': '6512eef3b91dbaa301dd158b', 'parent_id': '6512eef3b91dbaa301dd158b', 'original_schema': [{'checked': True, 'inherited': True, 'is_categorical': False, 'bad_values': '', 'nullable': 'true', 'field': 'CRIM', 'alias': 'CRIM', 'type': 'real', 'position': '0'}, {'checked': True, 'inherited': True, 'is_categorical': False, 'bad_values': '', 'nullable': 'true', 'field': 'ZN', 'alias': 'ZN', 'type': 'real', 'position': '1'}, {'checked': True, 'inherited': True, 'is_categorical': False, 'bad_values': '', 'nullable': 'true', 'field': 'INDUS', 'alias': 'INDUS', 'type': 'real', 'position': '2'}, {'checked': True, 'inherited': True, 'is_categorical': False, 'bad_values': '', 'nullable': 'true', 'field': 'CHAS', 'alias': 'CHAS', 'type': 'real', 'position': '3'}, {'checked': True, 'inherited': True, 'is_categorical': False, 'bad_values': '', 'nullable': 'true', 'field': 'NOX', 'alias': 'NOX', 'type': 'real', 'position': '4'}, {'checked': True, 'inherited': True, 'is_categorical': False, 'bad_values': '', 'nullable': 'true', 'field': 'RM', 'alias': 'RM', 'type': 'real', 'position': '5'}, {'checked': True, 'inherited': True, 'is_categorical': False, 'bad_values': '', 'nullable': 'true', 'field': 'AGE', 'alias': 'AGE', 'type': 'real', 'position': '6'}, {'checked': True, 'inherited': True, 'is_categorical': False, 'bad_values': '', 'nullable': 'true', 'field': 'DIS', 'alias': 'DIS', 'type': 'real', 'position': '7'}, {'checked': True, 'inherited': True, 'is_categorical': False, 'bad_values': '', 'nullable': 'true', 'field': 'RAD', 'alias': 'RAD', 'type': 'real', 'position': '8'}, {'checked': True, 'inherited': True, 'is_categorical': False, 'bad_values': '', 'nullable': 'true', 'field': 'TAX', 'alias': 'TAX', 'type': 'real', 'position': '9'}, {'checked': True, 'inherited': True, 'is_categorical': False, 'bad_values': '', 'nullable': 'true', 'field': 'PTRATIO', 'alias': 'PTRATIO', 'type': 'real', 'position': '10'}, {'checked': True, 'inherited': True, 'is_categorical': False, 'bad_values': '', 'nullable': 'true', 'field': 'B', 'alias': 'B', 'type': 'real', 'position': '11'}, {'checked': True, 'inherited': True, 'is_categorical': False, 'bad_values': '', 'nullable': 'true', 'field': 'LSTAT', 'alias': 'LSTAT', 'type': 'real', 'position': '12'}, {'checked': True, 'inherited': True, 'is_categorical': False, 'bad_values': '', 'nullable': 'true', 'field': 'MEDV', 'alias': 'MEDV', 'type': 'real', 'position': '13'}], 'actual_schema': [{'checked': True, 'inherited': True, 'is_categorical': False, 'bad_values': '', 'nullable': 'true', 'field': 'CRIM', 'alias': 'CRIM', 'type': 'real', 'position': '0'}, {'checked': True, 'inherited': True, 'is_categorical': False, 'bad_values': '', 'nullable': 'true', 'field': 'ZN', 'alias': 'ZN', 'type': 'real', 'position': '1'}, {'checked': True, 'inherited': True, 'is_categorical': False, 'bad_values': '', 'nullable': 'true', 'field': 'INDUS', 'alias': 'INDUS', 'type': 'real', 'position': '2'}, {'checked': True, 'inherited': True, 'is_categorical': False, 'bad_values': '', 'nullable': 'true', 'field': 'CHAS', 'alias': 'CHAS', 'type': 'real', 'position': '3'}, {'checked': True, 'inherited': True, 'is_categorical': False, 'bad_values': '', 'nullable': 'true', 'field': 'NOX', 'alias': 'NOX', 'type': 'real', 'position': '4'}, {'checked': True, 'inherited': True, 'is_categorical': False, 'bad_values': '', 'nullable': 'true', 'field': 'RM', 'alias': 'RM', 'type': 'real', 'position': '5'}, {'checked': True, 'inherited': True, 'is_categorical': False, 'bad_values': '', 'nullable': 'true', 'field': 'AGE', 'alias': 'AGE', 'type': 'real', 'position': '6'}, {'checked': True, 'inherited': True, 'is_categorical': False, 'bad_values': '', 'nullable': 'true', 'field': 'DIS', 'alias': 'DIS', 'type': 'real', 'position': '7'}, {'checked': True, 'inherited': True, 'is_categorical': False, 'bad_values': '', 'nullable': 'true', 'field': 'RAD', 'alias': 'RAD', 'type': 'real', 'position': '8'}, {'checked': True, 'inherited': True, 'is_categorical': False, 'bad_values': '', 'nullable': 'true', 'field': 'TAX', 'alias': 'TAX', 'type': 'real', 'position': '9'}, {'checked': True, 'inherited': True, 'is_categorical': False, 'bad_values': '', 'nullable': 'true', 'field': 'PTRATIO', 'alias': 'PTRATIO', 'type': 'real', 'position': '10'}, {'checked': True, 'inherited': True, 'is_categorical': False, 'bad_values': '', 'nullable': 'true', 'field': 'B', 'alias': 'B', 'type': 'real', 'position': '11'}, {'checked': True, 'inherited': True, 'is_categorical': False, 'bad_values': '', 'nullable': 'true', 'field': 'LSTAT', 'alias': 'LSTAT', 'type': 'real', 'position': '12'}, {'checked': True, 'inherited': True, 'is_categorical': False, 'bad_values': '', 'nullable': 'true', 'field': 'MEDV', 'alias': 'MEDV', 'type': 'real', 'position': '13'}], 'server': 'https://ml.numtra.com:443', 'server_url': '/numtraPlatform/NumtraPlatformV3/uploads/platform/', 'delimiter': ',', 'file_type': 'Delimeted', 'filename': 'BostonTrainDP.csv', 'token': '', 'domain': '', 'is_header': 'Use Header Line', 'url': '/FileStore/platform/uploadedSourceFiles/part-00000-a028f1ef-f406-4de1-b3c0-4076d8b2f53f-c000.csv', 'results_url': 'http://ml.numtra.com:44040/api/read/hdfs'}\")\n",
    "\n",
    "except Exception as ex: \n",
    "\tlogging.error(ex)\n"
   ]
  }
 ],
 "metadata": {},
 "nbformat": 4,
 "nbformat_minor": 5
}
